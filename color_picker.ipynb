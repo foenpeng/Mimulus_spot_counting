{
 "cells": [
  {
   "cell_type": "code",
   "execution_count": 2,
   "metadata": {},
   "outputs": [
    {
     "name": "stdout",
     "output_type": "stream",
     "text": [
      "[ 16 126 220] [  6 116 180] [ 26 136 260]\n",
      "[ 19 166 214] [  9 156 174] [ 29 176 254]\n",
      "[ 19 163 218] [  9 153 178] [ 29 173 258]\n",
      "[ 21 185 215] [ 11 175 175] [ 31 195 255]\n",
      "[ 18 153 214] [  8 143 174] [ 28 163 254]\n",
      "[ 13 173 199] [  3 163 159] [ 23 183 239]\n",
      "[ 17 134 217] [  7 124 177] [ 27 144 257]\n",
      "[ 19 155 215] [  9 145 175] [ 29 165 255]\n",
      "[ 18 155 212] [  8 145 172] [ 28 165 252]\n",
      "[  7 162 165] [ -3 152 125] [ 17 172 205]\n",
      "[ 19 165 205] [  9 155 165] [ 29 175 245]\n",
      "[ 20 182 216] [ 10 172 176] [ 30 192 256]\n",
      "[ 20 146 218] [ 10 136 178] [ 30 156 258]\n",
      "[ 20 153 208] [ 10 143 168] [ 30 163 248]\n",
      "[ 20 149 217] [ 10 139 177] [ 30 159 257]\n",
      "[ 14 191 180] [  4 181 140] [ 24 201 220]\n",
      "[ 16 170 206] [  6 160 166] [ 26 180 246]\n",
      "[ 13 178 195] [  3 168 155] [ 23 188 235]\n",
      "[  5 157 153] [ -5 147 113] [ 15 167 193]\n",
      "[  7 155 150] [ -3 145 110] [ 17 165 190]\n",
      "[ 10 180 150] [  0 170 110] [ 20 190 190]\n",
      "[  6 176 149] [ -4 166 109] [ 16 186 189]\n",
      "[ 20 162 195] [ 10 152 155] [ 30 172 235]\n",
      "[ 20 169 198] [ 10 159 158] [ 30 179 238]\n",
      "[ 20 159 194] [ 10 149 154] [ 30 169 234]\n",
      "[ 11 187 194] [  1 177 154] [ 21 197 234]\n",
      "[ 21 165 222] [ 11 155 182] [ 31 175 262]\n",
      "[  5 149 144] [ -5 139 104] [ 15 159 184]\n",
      "[  5 161 146] [ -5 151 106] [ 15 171 186]\n",
      "[ 22 142 222] [ 12 132 182] [ 32 152 262]\n",
      "[ 20 136 223] [ 10 126 183] [ 30 146 263]\n",
      "[ 21 183 213] [ 11 173 173] [ 31 193 253]\n",
      "[ 20 168 211] [ 10 158 171] [ 30 178 251]\n",
      "[ 17  89 218] [  7  79 178] [ 27  99 258]\n",
      "[ 11  20 242] [  1  10 202] [ 21  30 282]\n"
     ]
    }
   ],
   "source": [
    "import cv2\n",
    "import numpy as np\n",
    "\n",
    "image_hsv = None   # global ;(\n",
    "pixel = (20,60,80) # some stupid default\n",
    "\n",
    "# mouse callback function\n",
    "def pick_color(event,x,y,flags,param):\n",
    "    if event == cv2.EVENT_LBUTTONDOWN:\n",
    "        pixel = image_hsv[y,x]\n",
    "\n",
    "        #you might want to adjust the ranges(+-10, etc):\n",
    "        upper =  np.array([pixel[0] + 10, pixel[1] + 10, pixel[2] + 40])\n",
    "        lower =  np.array([pixel[0] - 10, pixel[1] - 10, pixel[2] - 40])\n",
    "        print(pixel, lower, upper)\n",
    "\n",
    "        image_mask = cv2.inRange(image_hsv,lower,upper)\n",
    "        cv2.imshow(\"mask\",image_mask)\n",
    "\n",
    "def main():\n",
    "    import sys\n",
    "    global image_hsv, pixel # so we can use it in mouse callback\n",
    "\n",
    "    image_src = cv2.imread(\"rto_4.tiff\")  # pick.py my.png\n",
    "    height, width, depth = image_src.shape\n",
    "    newY, newX = int(height/5), int(width/5)\n",
    "    image_src = cv2.resize(image_src,(newX, newY))\n",
    "    if image_src is None:\n",
    "        print (\"the image read is None............\")\n",
    "        return\n",
    "\n",
    "    cv2.imshow(\"bgr\",image_src)\n",
    "\n",
    "    ## NEW ##\n",
    "    cv2.namedWindow('hsv',cv2.WINDOW_NORMAL)\n",
    "    cv2.setMouseCallback('bgr', pick_color)\n",
    "\n",
    "    # now click into the hsv img , and look at values:\n",
    "    image_hsv = cv2.cvtColor(image_src,cv2.COLOR_BGR2HSV)\n",
    "    cv2.imshow(\"hsv\",image_hsv)\n",
    "\n",
    "    cv2.waitKey(0)\n",
    "    cv2.destroyAllWindows()\n",
    "    cv2.waitKey(1)\n",
    "\n",
    "if __name__=='__main__':\n",
    "    main()"
   ]
  },
  {
   "cell_type": "code",
   "execution_count": 3,
   "metadata": {},
   "outputs": [
    {
     "data": {
      "text/plain": [
       "<function resize>"
      ]
     },
     "execution_count": 3,
     "metadata": {},
     "output_type": "execute_result"
    }
   ],
   "source": [
    "cv2.resize"
   ]
  },
  {
   "cell_type": "code",
   "execution_count": null,
   "metadata": {},
   "outputs": [],
   "source": []
  },
  {
   "cell_type": "code",
   "execution_count": null,
   "metadata": {},
   "outputs": [],
   "source": []
  }
 ],
 "metadata": {
  "kernelspec": {
   "display_name": "Python 3",
   "language": "python",
   "name": "python3"
  },
  "language_info": {
   "codemirror_mode": {
    "name": "ipython",
    "version": 3
   },
   "file_extension": ".py",
   "mimetype": "text/x-python",
   "name": "python",
   "nbconvert_exporter": "python",
   "pygments_lexer": "ipython3",
   "version": "3.7.1"
  }
 },
 "nbformat": 4,
 "nbformat_minor": 2
}
