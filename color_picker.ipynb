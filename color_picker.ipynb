{
 "cells": [
  {
   "cell_type": "code",
   "execution_count": null,
   "metadata": {},
   "outputs": [
    {
     "name": "stdout",
     "output_type": "stream",
     "text": [
      "[162 139 207] [159 136 197] [165 142 217]\n",
      "[163 144 184] [160 141 174] [166 147 194]\n",
      "[166 173 174] [163 170 164] [169 176 184]\n",
      "[163 159 178] [160 156 168] [166 162 188]\n",
      "[163 143 203] [160 140 193] [166 146 213]\n",
      "[162 153 201] [159 150 191] [165 156 211]\n",
      "[164 129 182] [161 126 172] [167 132 192]\n",
      "[164 128 187] [161 125 177] [167 131 197]\n",
      "[163 143 204] [160 140 194] [166 146 214]\n",
      "[163 138 203] [160 135 193] [166 141 213]\n",
      "[161 106 207] [158 103 197] [164 109 217]\n",
      "[165 151 179] [162 148 169] [168 154 189]\n"
     ]
    }
   ],
   "source": [
    "import cv2\n",
    "import numpy as np\n",
    "\n",
    "image_hsv = None   # global ;(\n",
    "pixel = (20,60,80) # some stupid default\n",
    "\n",
    "# mouse callback function\n",
    "def pick_color(event,x,y,flags,param):\n",
    "    if event == cv2.EVENT_LBUTTONDOWN:\n",
    "        pixel = image_hsv[y,x]\n",
    "\n",
    "        #you might want to adjust the ranges(+-10, etc):\n",
    "        upper =  np.array([pixel[0] + 3, pixel[1] + 3, pixel[2] + 10])\n",
    "        lower =  np.array([pixel[0] - 3, pixel[1] - 3, pixel[2] - 10])\n",
    "        print(pixel, lower, upper)\n",
    "\n",
    "        image_mask = cv2.inRange(image_hsv,lower,upper)\n",
    "        cv2.imshow(\"mask\",image_mask)\n",
    "\n",
    "def main():\n",
    "    import sys\n",
    "    global image_hsv, pixel # so we can use it in mouse callback\n",
    "\n",
    "    image_src = cv2.imread(\"./result_img/RTORNAi8_1.tiff\")  # pick.py my.png\n",
    "    height, width, depth = image_src.shape\n",
    "    newY, newX = int(height/5), int(width/5)\n",
    "    image_src = cv2.resize(image_src,(newX, newY))\n",
    "    if image_src is None:\n",
    "        print (\"the image read is None............\")\n",
    "        return\n",
    "\n",
    "    cv2.imshow(\"bgr\",image_src)\n",
    "\n",
    "    ## NEW ##\n",
    "    cv2.namedWindow('hsv',cv2.WINDOW_NORMAL)\n",
    "    cv2.setMouseCallback('bgr', pick_color)\n",
    "\n",
    "    # now click into the hsv img , and look at values:\n",
    "    image_hsv = cv2.cvtColor(image_src,cv2.COLOR_BGR2HSV)\n",
    "    cv2.imshow(\"hsv\",image_hsv)\n",
    "\n",
    "    cv2.waitKey(0)\n",
    "    cv2.destroyAllWindows()\n",
    "    cv2.waitKey(1)\n",
    "\n",
    "if __name__=='__main__':\n",
    "    main()"
   ]
  },
  {
   "cell_type": "code",
   "execution_count": 3,
   "metadata": {},
   "outputs": [
    {
     "data": {
      "text/plain": [
       "<function resize>"
      ]
     },
     "execution_count": 3,
     "metadata": {},
     "output_type": "execute_result"
    }
   ],
   "source": [
    "cv2.resize"
   ]
  },
  {
   "cell_type": "code",
   "execution_count": 2,
   "metadata": {},
   "outputs": [
    {
     "ename": "NameError",
     "evalue": "name 'os' is not defined",
     "output_type": "error",
     "traceback": [
      "\u001b[0;31m---------------------------------------------------------------------------\u001b[0m",
      "\u001b[0;31mNameError\u001b[0m                                 Traceback (most recent call last)",
      "\u001b[0;32m<ipython-input-2-a78b1fb2bab9>\u001b[0m in \u001b[0;36m<module>\u001b[0;34m\u001b[0m\n\u001b[0;32m----> 1\u001b[0;31m \u001b[0mos\u001b[0m\u001b[0;34m.\u001b[0m\u001b[0mgetcwd\u001b[0m\u001b[0;34m(\u001b[0m\u001b[0;34m)\u001b[0m\u001b[0;34m\u001b[0m\u001b[0;34m\u001b[0m\u001b[0m\n\u001b[0m",
      "\u001b[0;31mNameError\u001b[0m: name 'os' is not defined"
     ]
    }
   ],
   "source": [
    "os.getcwd()"
   ]
  },
  {
   "cell_type": "code",
   "execution_count": 3,
   "metadata": {},
   "outputs": [],
   "source": [
    "import os"
   ]
  },
  {
   "cell_type": "code",
   "execution_count": 4,
   "metadata": {},
   "outputs": [
    {
     "data": {
      "text/plain": [
       "'/Users/pengfoen/Documents/Research/UW_experiment/Turing pattern/spots_counting'"
      ]
     },
     "execution_count": 4,
     "metadata": {},
     "output_type": "execute_result"
    }
   ],
   "source": [
    "os.getcwd()\n"
   ]
  },
  {
   "cell_type": "code",
   "execution_count": 5,
   "metadata": {},
   "outputs": [
    {
     "data": {
      "text/plain": [
       "array([[[230, 232, 234],\n",
       "        [230, 232, 234],\n",
       "        [231, 231, 233],\n",
       "        ...,\n",
       "        [231, 232, 232],\n",
       "        [232, 231, 232],\n",
       "        [233, 230, 232]],\n",
       "\n",
       "       [[232, 232, 234],\n",
       "        [232, 231, 234],\n",
       "        [231, 231, 235],\n",
       "        ...,\n",
       "        [232, 232, 233],\n",
       "        [232, 232, 233],\n",
       "        [232, 231, 234]],\n",
       "\n",
       "       [[234, 231, 234],\n",
       "        [233, 231, 235],\n",
       "        [232, 230, 235],\n",
       "        ...,\n",
       "        [233, 233, 233],\n",
       "        [232, 233, 234],\n",
       "        [231, 233, 234]],\n",
       "\n",
       "       ...,\n",
       "\n",
       "       [[230, 233, 234],\n",
       "        [230, 232, 234],\n",
       "        [230, 231, 234],\n",
       "        ...,\n",
       "        [227, 235, 233],\n",
       "        [226, 234, 232],\n",
       "        [226, 233, 231]],\n",
       "\n",
       "       [[232, 232, 234],\n",
       "        [231, 231, 234],\n",
       "        [231, 230, 234],\n",
       "        ...,\n",
       "        [225, 234, 233],\n",
       "        [225, 233, 232],\n",
       "        [225, 233, 232]],\n",
       "\n",
       "       [[233, 231, 234],\n",
       "        [232, 230, 234],\n",
       "        [232, 229, 234],\n",
       "        ...,\n",
       "        [225, 234, 233],\n",
       "        [225, 233, 233],\n",
       "        [225, 233, 233]]], dtype=uint8)"
      ]
     },
     "execution_count": 5,
     "metadata": {},
     "output_type": "execute_result"
    }
   ],
   "source": [
    "cv2.imread(\"./result_img/rto_4.tiff\")"
   ]
  },
  {
   "cell_type": "code",
   "execution_count": null,
   "metadata": {},
   "outputs": [],
   "source": []
  }
 ],
 "metadata": {
  "kernelspec": {
   "display_name": "Python 3",
   "language": "python",
   "name": "python3"
  },
  "language_info": {
   "codemirror_mode": {
    "name": "ipython",
    "version": 3
   },
   "file_extension": ".py",
   "mimetype": "text/x-python",
   "name": "python",
   "nbconvert_exporter": "python",
   "pygments_lexer": "ipython3",
   "version": "3.7.1"
  }
 },
 "nbformat": 4,
 "nbformat_minor": 2
}
