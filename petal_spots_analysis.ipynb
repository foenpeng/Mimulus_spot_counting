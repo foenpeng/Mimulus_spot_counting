{
 "cells": [
  {
   "cell_type": "code",
   "execution_count": 1,
   "metadata": {},
   "outputs": [],
   "source": [
    "import sys\n",
    "#!conda install --yes --prefix {sys.prefix} pandas"
   ]
  },
  {
   "cell_type": "code",
   "execution_count": 2,
   "metadata": {},
   "outputs": [],
   "source": [
    "import cv2\n",
    "import glob\n",
    "import pandas as pd\n",
    "import os\n",
    "import numpy as np\n",
    "from matplotlib import pyplot as plt"
   ]
  },
  {
   "cell_type": "code",
   "execution_count": 3,
   "metadata": {},
   "outputs": [],
   "source": [
    "def img_resize(img, scale):\n",
    "    height, width, depth = img.shape\n",
    "    newY, newX = int(height/scale), int(width/scale)\n",
    "    img_resized = cv2.resize(img,(newX, newY))\n",
    "    return img_resized "
   ]
  },
  {
   "cell_type": "code",
   "execution_count": 4,
   "metadata": {},
   "outputs": [],
   "source": [
    "def color_avg(img):    \n",
    "    flat = img.reshape(-1, img.shape[-1])\n",
    "    nonzero_pixel = flat[np.any(flat,axis=1)]\n",
    "    return np.mean(nonzero_pixel,axis=0).tolist()"
   ]
  },
  {
   "cell_type": "code",
   "execution_count": 5,
   "metadata": {},
   "outputs": [],
   "source": [
    "def contour_by_color(img,boundaries,kernal_size,contour_number=1):\n",
    "    mask = mask_contour = np.zeros(img.shape[:2], dtype=\"uint8\")\n",
    "    for (lower, upper) in boundaries:\n",
    "        # create NumPy arrays from the boundaries\n",
    "        lower = np.array(lower, dtype = \"uint8\")\n",
    "        upper = np.array(upper, dtype = \"uint8\")\n",
    "\n",
    "        # find the colors within the specified boundaries and apply\n",
    "        # the mask\n",
    "        mask += cv2.inRange(img, lower, upper) \n",
    "        kernel = np.ones((kernal_size,kernal_size), np.uint8)  # note this is a horizontal kernel\n",
    "        d_im = cv2.dilate(mask, kernel, iterations=1)\n",
    "        mask_closed = cv2.erode(d_im, kernel, iterations=1) \n",
    "        #output = cv2.bitwise_and(hsv, hsv, mask = mask)\n",
    "    \n",
    "    # note setting cv2.RETR_EXTERNAL to retrieve outside contour only\n",
    "    _,cnts,_ = cv2.findContours(mask_closed.copy(), cv2.RETR_EXTERNAL, cv2.CHAIN_APPROX_SIMPLE)\n",
    "    if contour_number != 1:\n",
    "        contour_number = len(cnts)\n",
    "    cnts = sorted(cnts, key = cv2.contourArea, reverse = True)[:contour_number]\n",
    "   \n",
    "    cnt_area_all = []\n",
    "    front_contour = np.zeros(img.shape[:2], dtype=\"uint8\")\n",
    "    back_contour = np.ones(img.shape[:2], dtype=\"uint8\")*255\n",
    "    for cnt in cnts:\n",
    "        cnt_area = cv2.contourArea(cnt)\n",
    "        if cnt_area > 150:\n",
    "            cnt_area_all.append(cnt_area)\n",
    "            cv2.drawContours(front_contour, [cnt], -1, (255,255,255), -1)            \n",
    "            cv2.drawContours(back_contour, [cnt], -1, 0, 5)\n",
    "\n",
    "    return front_contour, back_contour, cnt_area_all\n",
    "    # masking\n",
    "    ##imask = mask>0\n",
    "    #ylw = np.zeros_like(hsv, np.uint8)\n",
    "    #ylw[imask] = img[imask]\n",
    "    \n",
    "    #show image with matplotlib\n",
    "    #plt.imshow(imask[:,:,[2,1,0]])\n",
    "    #plt.xticks([]), plt.yticks([])  # to hide tick values on X and Y axis\n",
    "    #plt.show()\n"
   ]
  },
  {
   "cell_type": "code",
   "execution_count": 199,
   "metadata": {},
   "outputs": [
    {
     "name": "stdout",
     "output_type": "stream",
     "text": [
      "rto_1.tiff\n",
      "RTORNAi8_1.tiff\n",
      "LF10_7.tiff\n",
      "LF10_6.tiff\n",
      "RTO RNAi4_1.tiff\n",
      "RTORNAi6_1.tiff\n",
      "F1_1.tiff\n",
      "RTO RNAi20_1.tiff\n",
      "F1_3.tiff\n",
      "RTO RNAi4_4.tiff\n",
      "RTO RNAi20_3.tiff\n",
      "RTORNAi8_5.tiff\n",
      "rto_5.tiff\n",
      "RTORNAi6_4.tiff\n",
      "LF10_10.tiff\n",
      "rto_4.tiff\n",
      "RTORNAi6_5.tiff\n",
      "RTORNAi8_4.tiff\n",
      "RTO RNAi20_2.tiff\n",
      "RTO RNAi4_5.tiff\n",
      "F1_2.tiff\n",
      "RTO RNAi20_5.tiff\n",
      "LF10_9.tiff\n",
      "RTORNAi8_3.tiff\n",
      "RTORNAi6_2.tiff\n",
      "rto_3.tiff\n",
      "F1_5.tiff\n",
      "RTO RNAi4_2.tiff\n",
      "RTO RNAi4_3.tiff\n",
      "F1_4.tiff\n",
      "RTORNAi6_3.tiff\n",
      "rto_2.tiff\n",
      "RTORNAi8_2.tiff\n",
      "LF10_8.tiff\n",
      "RTO RNAi20_4.tiff\n"
     ]
    }
   ],
   "source": [
    "path=os.getcwd()\n",
    "img_folder = os.path.join(path,\"result_img\") + \"/\"\n",
    "img_file=glob.glob('*.tiff')\n",
    "img_result =  pd.DataFrame(columns=['file_name','spot_ng_ratio','ng_area','spot_area_all','num_spot','spot_area_mean','spot_area_max','ng_R','ng_G','ng_B','spot_R','spot_G','spot_B'])\n",
    "#img_file = ['LF10_10.tiff']\n",
    "for i in range(len(img_file)):\n",
    "    print(img_file[i])\n",
    "    img = cv2.imread(img_file[i])\n",
    "    hsv = cv2.cvtColor(img,cv2.COLOR_BGR2HSV)\n",
    "    \n",
    "    ### find nectar guide area\n",
    "    ng_boundaries = [((10,140,180), (30, 255, 255))]\n",
    "\n",
    "    ng_front,ng_back,ng_area = contour_by_color(hsv,ng_boundaries,kernal_size=100)\n",
    "    bgr_ng_front = cv2.bitwise_and(img, img, mask = ng_front)\n",
    "    hsv_ng_front = cv2.bitwise_and(hsv, hsv, mask = ng_front)\n",
    "    bgr_ng_back = cv2.bitwise_and(img, img, mask = ng_back)\n",
    "    ng_B,ng_G,ng_R = color_avg(bgr_ng_front)\n",
    "    #cv2.circle(bgr_ng_front,(int(bgr_ng_front.shape[1]/2),int(bgr_ng_front.shape[0]/2)),10,color=0,thickness=-1)\n",
    "    #imshow_resize(bgr_ng_front, 10)\n",
    "    \n",
    "    ### find spots in nectar guide area\n",
    "    spot_boundaries = [((1,110,130), (19, 230, 255))]\n",
    "\n",
    "    spot_front, spot_back, spot_area = contour_by_color(hsv_ng_front,spot_boundaries,kernal_size=5,contour_number=2)\n",
    "    bgr_spot_front = cv2.bitwise_and(bgr_ng_front, bgr_ng_front, mask = spot_front)\n",
    "    bgr_spot_back = cv2.bitwise_and(bgr_ng_back, bgr_ng_back, mask = spot_back)\n",
    "    spot_B,spot_G,spot_R = color_avg(bgr_spot_front)\n",
    "\n",
    "    img_result.loc[i] = [img_file[i],sum(spot_area)/ng_area[0],ng_area[0],sum(spot_area),len(spot_area),np.mean(spot_area),max(spot_area),ng_R,ng_G,ng_B,spot_R,spot_G,spot_B]\n",
    "    \n",
    "    bgr_ng_front_resized = img_resize(bgr_ng_front,10)\n",
    "    bgr_spot_front_resized = img_resize(bgr_spot_front,10)\n",
    "    bgr_spot_back_resized = img_resize(bgr_spot_back,6)\n",
    "    #cv2.imshow(\"bgr_ng_front_resized\",bgr_ng_front_resized)\n",
    "    #cv2.imshow(\"bgr_spot_front_resized\",bgr_spot_front_resized)\n",
    "    #cv2.imshow(\"bgr_spot_back_resized\",bgr_spot_back_resized)\n",
    "    #cv2.waitKey(0)\n",
    "    #cv2.destroyAllWindows()\n",
    "    #cv2.waitKey(1)\n",
    "    \n",
    "    filename_base = img_file[i].split('.')[0]\n",
    "    cv2.imwrite(img_folder + filename_base+\"_NG.png\",bgr_ng_front_resized)\n",
    "    cv2.imwrite(img_folder + filename_base+\"_SPOT.png\",bgr_spot_front_resized)\n",
    "    cv2.imwrite(img_folder + filename_base+\"_BOTH.png\",bgr_spot_back_resized)\n",
    "\n",
    "img_result.to_csv(\"spot_counting.csv\", encoding='utf-8', index=False)   "
   ]
  },
  {
   "cell_type": "code",
   "execution_count": 74,
   "metadata": {},
   "outputs": [
    {
     "name": "stdout",
     "output_type": "stream",
     "text": [
      "[5570497.5]\n"
     ]
    }
   ],
   "source": [
    "# define the list of boundaries\n",
    "#ng_boundaries = [((10,140,180), (20, 200, 255)),\n",
    "#                 ((20,200,180), (30, 255, 255))]\n",
    "\n",
    "ng_boundaries = [((10,140,180), (30, 255, 255))]\n",
    "\n",
    "ng_front,ng_back,ng_area = contour_by_color(hsv,ng_boundaries,kernal_size=100)\n",
    "bgr_ng_front = cv2.bitwise_and(img, img, mask = ng_front)\n",
    "hsv_ng_front = cv2.bitwise_and(hsv, hsv, mask = ng_front)\n",
    "bgr_ng_back = cv2.bitwise_and(img, img, mask = ng_back)\n",
    "hsv_ng_back = cv2.bitwise_and(hsv, hsv, mask = ng_back)\n",
    "#cv2.circle(bgr_ng_front,(int(bgr_ng_front.shape[1]/2),int(bgr_ng_front.shape[0]/2)),5,color=0,thickness=-1)\n",
    "\n",
    "imshow_resize(bgr_ng_front, 10)\n",
    "#cv2.imwrite(\"LF10_10_NG.tiff\",bgr_masked)\n"
   ]
  },
  {
   "cell_type": "code",
   "execution_count": 75,
   "metadata": {},
   "outputs": [
    {
     "name": "stdout",
     "output_type": "stream",
     "text": [
      "count number 1577\n",
      "[87094.5, 20956.5, 18059.5, 11456.5, 10640.5, 9408.0, 8152.0, 6859.5, 6075.0, 5772.0, 5722.0, 5468.0, 5454.5, 5055.5, 4468.0, 4344.0, 3872.0, 3499.5, 3428.0, 3355.0, 3342.0, 3115.0, 2953.5, 2850.0, 2755.0, 2728.5, 2681.0, 2626.0, 2508.5, 2412.0, 2312.0, 2266.5, 2238.0, 2200.0, 2157.5, 2024.0, 2004.0, 1991.5, 1953.0, 1791.0, 1754.0, 1746.5, 1744.0, 1719.5, 1563.5, 1539.5, 1477.5, 1458.0, 1458.0, 1442.0, 1423.0, 1410.0, 1368.5, 1339.0, 1335.0, 1313.5, 1295.5, 1277.0, 1261.5, 1223.0, 1222.0, 1162.5, 1159.5, 1141.5, 1104.0, 1097.5, 1076.0, 1049.5, 1038.0, 1007.0, 976.5, 968.0, 956.0, 942.5, 923.0, 899.5, 887.0, 879.5, 869.5, 867.0, 866.5, 856.0, 823.0, 815.0, 809.5, 796.5, 790.5, 776.5, 768.0, 763.5, 758.5, 750.5, 750.0, 747.0, 747.0, 743.5, 732.5, 722.5, 706.0, 700.5, 688.0, 683.0, 680.5, 677.5, 677.5, 676.0, 663.5, 663.0, 660.0, 633.5, 617.5, 617.0, 610.0, 605.0, 601.0, 600.0, 599.0, 594.0, 592.5, 591.0, 586.5, 566.5, 564.5, 564.5, 564.5, 562.0, 558.5, 556.5, 549.0, 544.0, 541.5, 534.0, 529.5, 524.5, 517.5, 516.0, 514.0, 511.0, 503.0, 502.0, 493.0, 490.0, 489.5, 488.0, 482.0, 470.0, 465.5, 462.5, 460.0, 442.5, 441.5, 437.0, 436.0, 431.0, 429.5, 423.0, 411.5, 402.5, 394.5, 385.5, 379.0, 372.5, 369.5, 369.5, 365.0, 363.0, 358.5, 356.5, 351.0, 347.0, 343.0, 341.0, 336.0, 335.5, 324.0, 322.5, 318.5, 318.5, 315.0, 313.0, 312.5, 311.5, 308.0, 299.5, 293.0, 281.5, 281.0, 280.5, 280.5, 279.0, 279.0, 278.5, 272.0, 271.0, 268.5, 266.5, 264.0, 264.0, 260.0, 258.0, 256.5, 254.0, 250.0, 249.5, 248.0, 229.5, 227.5, 225.5, 224.0, 221.5, 216.5, 215.0, 212.0, 209.5, 207.0, 205.0, 204.5, 202.5, 198.5, 194.5, 191.0, 187.5, 187.0, 187.0, 177.0, 172.0, 171.5, 170.5, 170.0, 169.0, 168.0, 166.5, 161.5, 158.5, 154.5, 153.5, 151.0, 149.0, 147.5, 144.5, 142.0, 137.5, 136.5, 134.5, 134.0, 133.0, 128.0, 123.0, 122.0, 119.0, 118.0, 117.0, 116.0, 114.0, 114.0, 112.5, 111.5, 111.5, 109.5, 108.0, 106.5, 105.5, 101.5, 99.5, 97.0, 97.0, 93.0, 93.0, 92.0, 92.0, 89.5, 88.5, 88.0, 86.5, 86.0, 86.0, 85.5, 83.5, 83.5, 81.5, 81.0, 80.0, 79.0, 78.0, 77.5, 77.5, 75.5, 75.0, 74.5, 74.5, 74.0, 73.0, 73.0, 70.5, 70.5, 70.5, 69.5, 69.5, 68.0, 67.5, 67.5, 65.5, 64.5, 64.0, 62.5, 62.5, 62.5, 61.0, 60.0, 59.0, 58.5, 57.5, 56.5, 56.5, 55.5, 55.5, 55.5, 55.5, 53.0, 53.0, 52.5, 52.0, 52.0, 50.5]\n"
     ]
    }
   ],
   "source": [
    "# define spots color boundaries\n",
    "spot_boundaries = [((1,110,130), (19, 230, 255))]\n",
    "\n",
    "spot_front, spot_back, spot_area = contour_by_color(hsv_ng_front,spot_boundaries,kernal_size=5,contour_number=2)\n",
    "bgr_spot_front = cv2.bitwise_and(bgr_ng_front, bgr_ng_front, mask = spot_front)\n",
    "hsv_spot_front = cv2.bitwise_and(hsv_ng_front, hsv_ng_front, mask = spot_front)\n",
    "\n",
    "bgr_spot_back = cv2.bitwise_and(bgr_ng_back, bgr_ng_back, mask = spot_back)\n",
    "hsv_spot_back = cv2.bitwise_and(hsv_ng_back, hsv_ng_back, mask = spot_back)\n",
    "\n",
    "imshow_resize(bgr_spot_back, 6)\n",
    "#cv2.imwrite(\"LF10_10_NG_spot.tiff\",bgr_spot_front)"
   ]
  },
  {
   "cell_type": "code",
   "execution_count": 159,
   "metadata": {},
   "outputs": [
    {
     "data": {
      "text/plain": [
       "0     LF10_10.tiff\n",
       "1      [5570497.5]\n",
       "2              324\n",
       "3           402764\n",
       "4           1243.1\n",
       "5          87094.5\n",
       "6          62.6434\n",
       "7          187.557\n",
       "8           226.48\n",
       "9          67.9675\n",
       "10         150.797\n",
       "11         205.901\n",
       "Name: 0, dtype: object"
      ]
     },
     "execution_count": 159,
     "metadata": {},
     "output_type": "execute_result"
    }
   ],
   "source": [
    "img_result[i]"
   ]
  },
  {
   "cell_type": "code",
   "execution_count": 170,
   "metadata": {},
   "outputs": [],
   "source": [
    "\n"
   ]
  },
  {
   "cell_type": "code",
   "execution_count": 172,
   "metadata": {},
   "outputs": [
    {
     "data": {
      "text/plain": [
       "True"
      ]
     },
     "execution_count": 172,
     "metadata": {},
     "output_type": "execute_result"
    }
   ],
   "source": [
    "filename_base = img_file[i].split('.')[0]\n",
    "cv2.imwrite(img_folder + \"/\" + filename_base+\"_NG.png\",bgr_ng_front_resized)"
   ]
  },
  {
   "cell_type": "code",
   "execution_count": 173,
   "metadata": {},
   "outputs": [],
   "source": [
    "img_folder = os.path.join(path,\"result_img\") + \"/\""
   ]
  },
  {
   "cell_type": "code",
   "execution_count": 181,
   "metadata": {},
   "outputs": [],
   "source": [
    "img_file=glob.glob('*.tiff')"
   ]
  },
  {
   "cell_type": "code",
   "execution_count": 182,
   "metadata": {},
   "outputs": [
    {
     "data": {
      "text/plain": [
       "[]"
      ]
     },
     "execution_count": 182,
     "metadata": {},
     "output_type": "execute_result"
    }
   ],
   "source": [
    "img_file"
   ]
  },
  {
   "cell_type": "code",
   "execution_count": 185,
   "metadata": {},
   "outputs": [
    {
     "data": {
      "text/plain": [
       "['rto_1.tiff', 'rto_5.tiff', 'rto_4.tiff', 'rto_3.tiff', 'rto_2.tiff']"
      ]
     },
     "execution_count": 185,
     "metadata": {},
     "output_type": "execute_result"
    }
   ],
   "source": [
    "path=os.getcwd()\n",
    "img_folder = os.path.join(path,\"result_img\") + \"/\"\n",
    "img_file=glob.glob('*rto*.tiff')\n",
    "img_file"
   ]
  },
  {
   "cell_type": "code",
   "execution_count": null,
   "metadata": {},
   "outputs": [],
   "source": []
  }
 ],
 "metadata": {
  "kernelspec": {
   "display_name": "Python 3",
   "language": "python",
   "name": "python3"
  },
  "language_info": {
   "codemirror_mode": {
    "name": "ipython",
    "version": 3
   },
   "file_extension": ".py",
   "mimetype": "text/x-python",
   "name": "python",
   "nbconvert_exporter": "python",
   "pygments_lexer": "ipython3",
   "version": "3.7.1"
  }
 },
 "nbformat": 4,
 "nbformat_minor": 2
}
